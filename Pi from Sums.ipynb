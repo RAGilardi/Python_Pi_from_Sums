{
 "cells": [
  {
   "cell_type": "markdown",
   "id": "7d6b9c6f",
   "metadata": {},
   "source": [
    "# Approximating Pi using Sums\n",
    "\n",
    "This notebook was written on 11/09/2023 as a self-assignment to train a little my skills in algorithm writing.\n",
    "\n",
    "It aims to calculate the value of pi using an infinite sum and it was inspired by a video on series by Mathologer (https://www.youtube.com/watch?v=VO2A6I3Woos&t=1258s).\n",
    "\n",
    "It's copyright free, you can download it from its GitHub project page at https://github.com/RAGilardi/Python_Pi_from_Sums/.\n",
    "\n",
    "This complete notebook was written in one session, so the code won't probably be completely optimized and there might be minor errors. If you have any suggestions, please write them in the issue session of the GitHub project at https://github.com/RAGilardi/Python_Pi_from_Sums//issues."
   ]
  },
  {
   "cell_type": "code",
   "execution_count": 4,
   "id": "35febab0",
   "metadata": {},
   "outputs": [],
   "source": [
    "#decimal is used to set the accuracy of the calculations\n",
    "from decimal import *\n",
    "#math is needed for a couple operations\n",
    "import math"
   ]
  },
  {
   "cell_type": "code",
   "execution_count": 31,
   "id": "dc44640f",
   "metadata": {
    "scrolled": false
   },
   "outputs": [],
   "source": [
    "def Pi_from_Sums(verbose = True):\n",
    "    count = 0.\n",
    "    denPos = 1\n",
    "    denNeg = 1\n",
    "\n",
    "    count = Decimal(str(count)).quantize(Decimal('.000001'), rounding=ROUND_DOWN)\n",
    "    denPos = Decimal(str(denPos)).quantize(Decimal('.000001'), rounding=ROUND_DOWN)\n",
    "    denNeg = Decimal(str(denNeg)).quantize(Decimal('.000001'), rounding=ROUND_DOWN)\n",
    "\n",
    "    #reference value\n",
    "    pi = Decimal(str(math.pi)).quantize(Decimal('.000000001'), rounding=ROUND_DOWN)\n",
    "\n",
    "    #decided to stop as I reach a certain accuracy (1-ratio) > limit accuracy\n",
    "    ratio = 0.\n",
    "    ratio = Decimal(str(ratio)).quantize(Decimal('.000000001'), rounding=ROUND_DOWN)\n",
    "\n",
    "    limit = Decimal(str(0.000001)).quantize(Decimal('.000001'), rounding=ROUND_DOWN)\n",
    "\n",
    "    #just needed do print values at regular intervals\n",
    "    iterat = 0.\n",
    "    \n",
    "    #my final best result\n",
    "    best = Decimal(str(0.1)).quantize(Decimal('.000001'), rounding=ROUND_DOWN)\n",
    "    bestResu = Decimal(str(0.)).quantize(Decimal('.000001'), rounding=ROUND_DOWN)\n",
    "    bestDen = 0\n",
    "\n",
    "    flag = 0\n",
    "\n",
    "    while abs(1 - ratio) > limit:\n",
    "\n",
    "        iterat+=1\n",
    "\n",
    "        #as explained in the video by mathologer, I'm adding fractions with increasing denominators when below pi\n",
    "        if count < pi:\n",
    "            count  += (1/denPos)\n",
    "            denPos += 1\n",
    "            flag = 1\n",
    "\n",
    "            if iterat%10 == 0 and verbose == True:\n",
    "                print(\"Count: \" + str(count))\n",
    "                print(\"Den: +\" + str(denPos))\n",
    "\n",
    "        #and I'm subtracting fractions with increasing denominator when above pi\n",
    "        else:\n",
    "            count += (-1/denNeg)\n",
    "            denNeg += 1\n",
    "            flag = -1\n",
    "\n",
    "            if iterat%10 == 0 and verbose == True:\n",
    "                print(\"Count: \" + str(count))\n",
    "                print(\"Den: +\" + str(-denNeg))\n",
    "\n",
    "        ratio = count/pi   \n",
    "        ratio = Decimal(str(count/pi)).quantize(Decimal('.000001'), rounding=ROUND_DOWN)\n",
    "        \n",
    "        if iterat%10 == 0 and verbose == True:\n",
    "            print(\"Ratio: \" + str(ratio) + '\\n')\n",
    "            \n",
    "        if abs(ratio - 1) < best:\n",
    "            best = abs(ratio - 1)\n",
    "            bestResu = count\n",
    "            if flag > 0:\n",
    "                bestDen = int(denPos)\n",
    "                print(denPos)\n",
    "            else:\n",
    "                bestDen = -int(denNeg)\n",
    "                print(denNeg)\n",
    "                \n",
    "            \n",
    "    print(\"Best result: \" + str(bestResu) + \"\\nBest accuracy: \" + str(best) + \"\\nCorresponding denominator: \" + str(bestDen))\n",
    "    \n",
    "    if flag > 0:\n",
    "        print(\"Last denominator: \" + str(int(denPos))) \n",
    "    else:\n",
    "        print(\"Last denominator: \" + str(-int(denNeg))) \n",
    "    \n",
    "    return 0;"
   ]
  },
  {
   "cell_type": "code",
   "execution_count": 32,
   "id": "a02d70d8",
   "metadata": {
    "scrolled": false
   },
   "outputs": [
    {
     "name": "stdout",
     "output_type": "stream",
     "text": [
      "10.000000\n",
      "11.000000\n",
      "12.000000\n",
      "13.000000\n",
      "35.000000\n",
      "36.000000\n",
      "59.000000\n",
      "82.000000\n",
      "105.000000\n",
      "128.000000\n",
      "313.000000\n",
      "660.000000\n",
      "822.000000\n",
      "984.000000\n",
      "Best result: 3.141590539158762365122348209\n",
      "Best accuracy: 0.000001\n",
      "Corresponding denominator: 984\n",
      "Last denominator: 984\n"
     ]
    },
    {
     "data": {
      "text/plain": [
       "0"
      ]
     },
     "execution_count": 32,
     "metadata": {},
     "output_type": "execute_result"
    }
   ],
   "source": [
    "Pi_from_Sums(verbose=False)"
   ]
  },
  {
   "cell_type": "code",
   "execution_count": 11,
   "id": "4e4e1150",
   "metadata": {},
   "outputs": [
    {
     "data": {
      "text/plain": [
       "3.141592653589793"
      ]
     },
     "execution_count": 11,
     "metadata": {},
     "output_type": "execute_result"
    }
   ],
   "source": [
    "math.pi"
   ]
  },
  {
   "cell_type": "code",
   "execution_count": null,
   "id": "1a08bf9f",
   "metadata": {},
   "outputs": [],
   "source": []
  }
 ],
 "metadata": {
  "kernelspec": {
   "display_name": "Python 3 (ipykernel)",
   "language": "python",
   "name": "python3"
  },
  "language_info": {
   "codemirror_mode": {
    "name": "ipython",
    "version": 3
   },
   "file_extension": ".py",
   "mimetype": "text/x-python",
   "name": "python",
   "nbconvert_exporter": "python",
   "pygments_lexer": "ipython3",
   "version": "3.10.4"
  }
 },
 "nbformat": 4,
 "nbformat_minor": 5
}
